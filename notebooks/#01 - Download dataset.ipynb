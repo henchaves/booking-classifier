{
 "cells": [
  {
   "cell_type": "code",
   "execution_count": 1,
   "id": "3a6e6e58-8824-49b5-9285-b320cc2c3539",
   "metadata": {},
   "outputs": [],
   "source": [
    "import os\n",
    "import requests"
   ]
  },
  {
   "cell_type": "markdown",
   "id": "02101bcf-8159-4c11-a997-91448b5dd08c",
   "metadata": {},
   "source": [
    "<hr>\n",
    "\n",
    "Define data to save the dataset, and the dataset URL to download from."
   ]
  },
  {
   "cell_type": "code",
   "execution_count": 2,
   "id": "a0bea883-4a34-4529-9be5-7243ccc2c15f",
   "metadata": {},
   "outputs": [],
   "source": [
    "data_folder = os.path.join(\"..\", \"data\")\n",
    "\n",
    "if not os.path.exists(data_folder):\n",
    "    os.makedirs(data_folder)\n",
    "\n",
    "csv_url = \"https://storage.googleapis.com/dsc-public-info/general/jobs_challenges/machine_learning/entry_level/datasets/hotel_bookings.csv\""
   ]
  },
  {
   "cell_type": "markdown",
   "id": "8c62b5f8-c440-48f6-8b81-d5369c75c27d",
   "metadata": {},
   "source": [
    "<hr> \n",
    "\n",
    "Download the hotel_bookings dataset"
   ]
  },
  {
   "cell_type": "code",
   "execution_count": 3,
   "id": "ffd0af45-6d9c-40b7-98d0-f5098c27e907",
   "metadata": {},
   "outputs": [],
   "source": [
    "def download_data(url, folder, filename):\n",
    "    \"\"\"\n",
    "    Downloads a file via URL and save it to a custom path.\n",
    "    ...\n",
    "    Parameters\n",
    "    ----------\n",
    "    url: str\n",
    "        The file URL\n",
    "    folder: str\n",
    "        The destination folder to save file\n",
    "    filename: str\n",
    "        The name to save file\n",
    "    \"\"\"\n",
    "    \n",
    "    try:\n",
    "        r = requests.get(url)\n",
    "        if r.status_code == 200:\n",
    "            print(\"Data downloaded successfully!\")\n",
    "            \n",
    "            filepath = os.path.join(folder, filename)\n",
    "            with open(filepath, \"wb\") as f:\n",
    "                f.write(r.content)\n",
    "            print(f\"Data saved at: {filepath}\")\n",
    "                \n",
    "    except Exception as e:\n",
    "        print(\"An error ocurred while trying to download/save the requested data.\")"
   ]
  },
  {
   "cell_type": "code",
   "execution_count": 4,
   "id": "24ec3e20-7852-4787-b3c5-f01bbd046350",
   "metadata": {},
   "outputs": [
    {
     "name": "stdout",
     "output_type": "stream",
     "text": [
      "Data downloaded successfully!\n",
      "Data saved at: ../data/hotel_bookings.csv\n"
     ]
    }
   ],
   "source": [
    "download_data(csv_url, data_folder, filename=\"hotel_bookings.csv\")"
   ]
  }
 ],
 "metadata": {
  "kernelspec": {
   "display_name": "Python 3",
   "language": "python",
   "name": "python3"
  },
  "language_info": {
   "codemirror_mode": {
    "name": "ipython",
    "version": 3
   },
   "file_extension": ".py",
   "mimetype": "text/x-python",
   "name": "python",
   "nbconvert_exporter": "python",
   "pygments_lexer": "ipython3",
   "version": "3.9.7"
  }
 },
 "nbformat": 4,
 "nbformat_minor": 5
}
