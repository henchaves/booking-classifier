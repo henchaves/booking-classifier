{
 "cells": [
  {
   "cell_type": "code",
   "execution_count": 1,
   "id": "901fab28-6124-4528-8e19-2e1a99a4459b",
   "metadata": {},
   "outputs": [],
   "source": [
    "import os\n",
    "import requests\n",
    "import json\n",
    "\n",
    "import pandas as pd\n",
    "import numpy as np\n",
    "\n",
    "import matplotlib.pyplot as plt\n",
    "import seaborn as sns\n",
    "sns.set()\n",
    "\n",
    "from sklearn.metrics import classification_report, confusion_matrix, ConfusionMatrixDisplay"
   ]
  },
  {
   "cell_type": "code",
   "execution_count": 2,
   "id": "ce6b2c07-4c23-4555-80a9-049e6fd863df",
   "metadata": {},
   "outputs": [],
   "source": [
    "# ../data/df_test.csv\n",
    "data_folder = os.path.join(\"..\", \"data\")\n",
    "csv_name = \"df_test.csv\"\n",
    "csv_path = os.path.join(data_folder, csv_name)"
   ]
  },
  {
   "cell_type": "markdown",
   "id": "e9730bfe-ddd0-4aa8-ba2b-5a9c5e0d98d3",
   "metadata": {},
   "source": [
    "<hr>\n",
    "\n",
    "Load df_test.csv"
   ]
  },
  {
   "cell_type": "code",
   "execution_count": 3,
   "id": "eb350e64-7b43-4683-9f44-4e825f3024ca",
   "metadata": {},
   "outputs": [
    {
     "data": {
      "text/html": [
       "<div>\n",
       "<style scoped>\n",
       "    .dataframe tbody tr th:only-of-type {\n",
       "        vertical-align: middle;\n",
       "    }\n",
       "\n",
       "    .dataframe tbody tr th {\n",
       "        vertical-align: top;\n",
       "    }\n",
       "\n",
       "    .dataframe thead th {\n",
       "        text-align: right;\n",
       "    }\n",
       "</style>\n",
       "<table border=\"1\" class=\"dataframe\">\n",
       "  <thead>\n",
       "    <tr style=\"text-align: right;\">\n",
       "      <th></th>\n",
       "      <th>is_canceled</th>\n",
       "      <th>lead_time</th>\n",
       "      <th>stays_in_weekend_nights</th>\n",
       "      <th>stays_in_week_nights</th>\n",
       "      <th>adults</th>\n",
       "      <th>children</th>\n",
       "      <th>babies</th>\n",
       "      <th>is_repeated_guest</th>\n",
       "      <th>booking_changes</th>\n",
       "      <th>days_in_waiting_list</th>\n",
       "      <th>...</th>\n",
       "      <th>deposit_type_Refundable</th>\n",
       "      <th>customer_type_Group</th>\n",
       "      <th>customer_type_Transient</th>\n",
       "      <th>customer_type_Transient-Party</th>\n",
       "      <th>arrival_date_weekday_Monday</th>\n",
       "      <th>arrival_date_weekday_Saturday</th>\n",
       "      <th>arrival_date_weekday_Sunday</th>\n",
       "      <th>arrival_date_weekday_Thursday</th>\n",
       "      <th>arrival_date_weekday_Tuesday</th>\n",
       "      <th>arrival_date_weekday_Wednesday</th>\n",
       "    </tr>\n",
       "  </thead>\n",
       "  <tbody>\n",
       "    <tr>\n",
       "      <th>0</th>\n",
       "      <td>0</td>\n",
       "      <td>23</td>\n",
       "      <td>2</td>\n",
       "      <td>0</td>\n",
       "      <td>2</td>\n",
       "      <td>0.0</td>\n",
       "      <td>0</td>\n",
       "      <td>0</td>\n",
       "      <td>0</td>\n",
       "      <td>0</td>\n",
       "      <td>...</td>\n",
       "      <td>0</td>\n",
       "      <td>0</td>\n",
       "      <td>1</td>\n",
       "      <td>0</td>\n",
       "      <td>0</td>\n",
       "      <td>0</td>\n",
       "      <td>1</td>\n",
       "      <td>0</td>\n",
       "      <td>0</td>\n",
       "      <td>0</td>\n",
       "    </tr>\n",
       "    <tr>\n",
       "      <th>1</th>\n",
       "      <td>1</td>\n",
       "      <td>158</td>\n",
       "      <td>0</td>\n",
       "      <td>2</td>\n",
       "      <td>1</td>\n",
       "      <td>0.0</td>\n",
       "      <td>0</td>\n",
       "      <td>0</td>\n",
       "      <td>0</td>\n",
       "      <td>31</td>\n",
       "      <td>...</td>\n",
       "      <td>0</td>\n",
       "      <td>0</td>\n",
       "      <td>1</td>\n",
       "      <td>0</td>\n",
       "      <td>0</td>\n",
       "      <td>0</td>\n",
       "      <td>0</td>\n",
       "      <td>0</td>\n",
       "      <td>1</td>\n",
       "      <td>0</td>\n",
       "    </tr>\n",
       "    <tr>\n",
       "      <th>2</th>\n",
       "      <td>0</td>\n",
       "      <td>52</td>\n",
       "      <td>0</td>\n",
       "      <td>2</td>\n",
       "      <td>2</td>\n",
       "      <td>2.0</td>\n",
       "      <td>0</td>\n",
       "      <td>0</td>\n",
       "      <td>0</td>\n",
       "      <td>0</td>\n",
       "      <td>...</td>\n",
       "      <td>0</td>\n",
       "      <td>0</td>\n",
       "      <td>1</td>\n",
       "      <td>0</td>\n",
       "      <td>0</td>\n",
       "      <td>0</td>\n",
       "      <td>0</td>\n",
       "      <td>0</td>\n",
       "      <td>0</td>\n",
       "      <td>0</td>\n",
       "    </tr>\n",
       "    <tr>\n",
       "      <th>3</th>\n",
       "      <td>1</td>\n",
       "      <td>182</td>\n",
       "      <td>1</td>\n",
       "      <td>2</td>\n",
       "      <td>2</td>\n",
       "      <td>0.0</td>\n",
       "      <td>0</td>\n",
       "      <td>0</td>\n",
       "      <td>0</td>\n",
       "      <td>0</td>\n",
       "      <td>...</td>\n",
       "      <td>0</td>\n",
       "      <td>0</td>\n",
       "      <td>1</td>\n",
       "      <td>0</td>\n",
       "      <td>0</td>\n",
       "      <td>0</td>\n",
       "      <td>0</td>\n",
       "      <td>0</td>\n",
       "      <td>0</td>\n",
       "      <td>0</td>\n",
       "    </tr>\n",
       "    <tr>\n",
       "      <th>4</th>\n",
       "      <td>1</td>\n",
       "      <td>37</td>\n",
       "      <td>0</td>\n",
       "      <td>3</td>\n",
       "      <td>2</td>\n",
       "      <td>0.0</td>\n",
       "      <td>0</td>\n",
       "      <td>0</td>\n",
       "      <td>0</td>\n",
       "      <td>0</td>\n",
       "      <td>...</td>\n",
       "      <td>0</td>\n",
       "      <td>0</td>\n",
       "      <td>0</td>\n",
       "      <td>1</td>\n",
       "      <td>0</td>\n",
       "      <td>0</td>\n",
       "      <td>0</td>\n",
       "      <td>1</td>\n",
       "      <td>0</td>\n",
       "      <td>0</td>\n",
       "    </tr>\n",
       "  </tbody>\n",
       "</table>\n",
       "<p>5 rows × 71 columns</p>\n",
       "</div>"
      ],
      "text/plain": [
       "   is_canceled  lead_time  stays_in_weekend_nights  stays_in_week_nights  \\\n",
       "0            0         23                        2                     0   \n",
       "1            1        158                        0                     2   \n",
       "2            0         52                        0                     2   \n",
       "3            1        182                        1                     2   \n",
       "4            1         37                        0                     3   \n",
       "\n",
       "   adults  children  babies  is_repeated_guest  booking_changes  \\\n",
       "0       2       0.0       0                  0                0   \n",
       "1       1       0.0       0                  0                0   \n",
       "2       2       2.0       0                  0                0   \n",
       "3       2       0.0       0                  0                0   \n",
       "4       2       0.0       0                  0                0   \n",
       "\n",
       "   days_in_waiting_list  ...  deposit_type_Refundable  customer_type_Group  \\\n",
       "0                     0  ...                        0                    0   \n",
       "1                    31  ...                        0                    0   \n",
       "2                     0  ...                        0                    0   \n",
       "3                     0  ...                        0                    0   \n",
       "4                     0  ...                        0                    0   \n",
       "\n",
       "   customer_type_Transient  customer_type_Transient-Party  \\\n",
       "0                        1                              0   \n",
       "1                        1                              0   \n",
       "2                        1                              0   \n",
       "3                        1                              0   \n",
       "4                        0                              1   \n",
       "\n",
       "   arrival_date_weekday_Monday  arrival_date_weekday_Saturday  \\\n",
       "0                            0                              0   \n",
       "1                            0                              0   \n",
       "2                            0                              0   \n",
       "3                            0                              0   \n",
       "4                            0                              0   \n",
       "\n",
       "   arrival_date_weekday_Sunday  arrival_date_weekday_Thursday  \\\n",
       "0                            1                              0   \n",
       "1                            0                              0   \n",
       "2                            0                              0   \n",
       "3                            0                              0   \n",
       "4                            0                              1   \n",
       "\n",
       "   arrival_date_weekday_Tuesday  arrival_date_weekday_Wednesday  \n",
       "0                             0                               0  \n",
       "1                             1                               0  \n",
       "2                             0                               0  \n",
       "3                             0                               0  \n",
       "4                             0                               0  \n",
       "\n",
       "[5 rows x 71 columns]"
      ]
     },
     "execution_count": 3,
     "metadata": {},
     "output_type": "execute_result"
    }
   ],
   "source": [
    "df = pd.read_csv(csv_path)\n",
    "df.head()"
   ]
  },
  {
   "cell_type": "markdown",
   "id": "5ee6e2fe-ed49-4416-ad40-759a852a0b65",
   "metadata": {},
   "source": [
    "<hr>\n",
    "\n",
    "Create features and target(s) arrays: X and y"
   ]
  },
  {
   "cell_type": "code",
   "execution_count": 4,
   "id": "c836f804-6a1d-4bda-9e6b-41f66e3f0409",
   "metadata": {},
   "outputs": [
    {
     "name": "stdout",
     "output_type": "stream",
     "text": [
      "[[ 23.    2.    0.    2.    0.    0.    0.    0.    0.  103.5   1.    1.\n",
      "    0.    1.    1.    0.    0.    0.    0.    0.    0.    0.    0.    0.\n",
      "    0.    0.    0.    0.    0.    0.    0.    0.    0.    0.    1.    0.\n",
      "    0.    1.    0.    0.    0.    0.    0.    0.    0.    0.    0.    0.\n",
      "    0.    0.    0.    0.    0.    0.    0.    0.    0.    0.    0.    0.\n",
      "    0.    0.    1.    0.    0.    0.    1.    0.    0.    0. ]\n",
      " [158.    0.    2.    1.    0.    0.    0.    0.   31.  130.    0.    0.\n",
      "    0.    0.    0.    0.    0.    0.    0.    0.    0.    1.    0.    0.\n",
      "    0.    0.    0.    0.    0.    0.    0.    0.    1.    0.    0.    0.\n",
      "    0.    1.    0.    0.    0.    0.    0.    0.    0.    0.    0.    0.\n",
      "    0.    0.    0.    0.    0.    0.    0.    0.    0.    0.    0.    1.\n",
      "    0.    0.    1.    0.    0.    0.    0.    0.    1.    0. ]]\n"
     ]
    }
   ],
   "source": [
    "X = df.drop(\"is_canceled\", axis=1).values\n",
    "print(X[:2])"
   ]
  },
  {
   "cell_type": "code",
   "execution_count": 5,
   "id": "a11b6046-07ce-400e-9e5a-83f95a9b84f4",
   "metadata": {},
   "outputs": [
    {
     "name": "stdout",
     "output_type": "stream",
     "text": [
      "[0 1 0 1 1]\n"
     ]
    }
   ],
   "source": [
    "y = df[\"is_canceled\"].values\n",
    "print(y[:5])"
   ]
  },
  {
   "cell_type": "markdown",
   "id": "85e3c3cd-9b35-4d23-89af-7339c6731905",
   "metadata": {},
   "source": [
    "<hr>\n",
    "\n",
    "Create a JSON with X values and make a POST request to model API"
   ]
  },
  {
   "cell_type": "code",
   "execution_count": 6,
   "id": "e5c72362-9dc8-47af-97e8-a2cc6d5bfaf0",
   "metadata": {},
   "outputs": [],
   "source": [
    "payload = {\"data\": X.tolist()}\n",
    "headers = {\"Content-Type\": \"application/json\"}\n",
    "\n",
    "# url = \"http://localhost:8008/predict/v1\"\n",
    "# url = \"http://hurb-ml.herokuapp.com/predict/v1\"\n",
    "url = \"http://hurb.henchaves.com/predict/v1\""
   ]
  },
  {
   "cell_type": "code",
   "execution_count": 7,
   "id": "7feb9ad1-787c-4f0d-8ae5-21bf929344c0",
   "metadata": {},
   "outputs": [
    {
     "data": {
      "text/plain": [
       "<Response [200]>"
      ]
     },
     "execution_count": 7,
     "metadata": {},
     "output_type": "execute_result"
    }
   ],
   "source": [
    "json_response = requests.post(url, json=payload, headers=headers)\n",
    "json_response"
   ]
  },
  {
   "cell_type": "code",
   "execution_count": 8,
   "id": "d88e4328-33e5-4d41-83cc-548837c4bfd0",
   "metadata": {},
   "outputs": [],
   "source": [
    "y_pred = np.array(json.loads(json_response.text)[\"predictions\"])"
   ]
  },
  {
   "cell_type": "markdown",
   "id": "97797794-a83f-48af-ac95-baa223fd64e8",
   "metadata": {},
   "source": [
    "<hr>\n",
    "\n",
    "Print a classification report of actual values and predictions, to check some statistics such as recall (important to this case)"
   ]
  },
  {
   "cell_type": "code",
   "execution_count": 9,
   "id": "c4865fbe-13b4-468f-b140-4916564cda8c",
   "metadata": {},
   "outputs": [
    {
     "data": {
      "text/plain": [
       "{'0': {'precision': 0.8361945636623748,\n",
       "  'recall': 0.9330850073167487,\n",
       "  'f1-score': 0.8819867966048411,\n",
       "  'support': 15034},\n",
       " '1': {'precision': 0.8583497606308083,\n",
       "  'recall': 0.689280868385346,\n",
       "  'f1-score': 0.7645804590492915,\n",
       "  'support': 8844},\n",
       " 'accuracy': 0.8427841527766144,\n",
       " 'macro avg': {'precision': 0.8472721621465915,\n",
       "  'recall': 0.8111829378510473,\n",
       "  'f1-score': 0.8232836278270663,\n",
       "  'support': 23878},\n",
       " 'weighted avg': {'precision': 0.8444004670876545,\n",
       "  'recall': 0.8427841527766144,\n",
       "  'f1-score': 0.8385015110138669,\n",
       "  'support': 23878}}"
      ]
     },
     "metadata": {},
     "output_type": "display_data"
    },
    {
     "name": "stdout",
     "output_type": "stream",
     "text": [
      "\n",
      "recall: 0.689280868385346\n"
     ]
    }
   ],
   "source": [
    "report = classification_report(y, y_pred, output_dict=True)\n",
    "display(report)\n",
    "print(\"\\nrecall:\", report[\"1\"][\"recall\"])"
   ]
  },
  {
   "cell_type": "markdown",
   "id": "587aa6b7-e5f2-45cc-94e8-c7b089381a71",
   "metadata": {},
   "source": [
    "<hr>\n",
    "\n",
    "Plot a confusion matrix of actual and predicted labels"
   ]
  },
  {
   "cell_type": "code",
   "execution_count": 10,
   "id": "43a909ce-410a-4d6f-bfe8-8ef1cec06f3d",
   "metadata": {},
   "outputs": [
    {
     "data": {
      "image/png": "[encoded data removed]",
      "text/plain": [
       "<Figure size 432x432 with 2 Axes>"
      ]
     },
     "metadata": {},
     "output_type": "display_data"
    }
   ],
   "source": [
    "cm = confusion_matrix(y, y_pred)\n",
    "disp = ConfusionMatrixDisplay(confusion_matrix=cm, display_labels=[0, 1])\n",
    "\n",
    "fig, ax = plt.subplots(figsize=(6, 6))\n",
    "ax.set_title(\"Confusion Matrix of test data\", fontsize=16)\n",
    "disp.plot(cmap=plt.cm.Blues, ax=ax)\n",
    "plt.grid(False)\n",
    "plt.show()"
   ]
  }
 ],
 "metadata": {
  "kernelspec": {
   "display_name": "Python 3",
   "language": "python",
   "name": "python3"
  },
  "language_info": {
   "codemirror_mode": {
    "name": "ipython",
    "version": 3
   },
   "file_extension": ".py",
   "mimetype": "text/x-python",
   "name": "python",
   "nbconvert_exporter": "python",
   "pygments_lexer": "ipython3",
   "version": "3.9.7"
  }
 },
 "nbformat": 4,
 "nbformat_minor": 5
}
